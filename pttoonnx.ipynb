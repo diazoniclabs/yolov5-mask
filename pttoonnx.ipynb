{
  "cells": [
    {
      "cell_type": "code",
      "execution_count": null,
      "metadata": {
        "id": "lIYdn1woOS1n"
      },
      "outputs": [],
      "source": [
        "!git clone https://github.com/ultralytics/yolov5  # clone\n",
        "%cd yolov5\n",
        "%pip install -qr requirements.txt  # install\n",
        "\n",
        "import torch\n",
        "import utils\n",
        "display = utils.notebook_init()  # checks"
      ]
    },
    {
      "cell_type": "code",
      "source": [
        "pip install openvino-dev[pytorch]==2021.4.2"
      ],
      "metadata": {
        "id": "Zi8cdaq2vp8W"
      },
      "execution_count": null,
      "outputs": []
    },
    {
      "cell_type": "code",
      "source": [
        "!git clone https://github.com/diazoniclabs/yolov5-mask"
      ],
      "metadata": {
        "id": "PEaewrBicI-B"
      },
      "execution_count": null,
      "outputs": []
    },
    {
      "cell_type": "code",
      "source": [
        "!python export.py --weights yolov5-mask/mask_yolov5.pt --include openvino"
      ],
      "metadata": {
        "id": "XxAZ2K5_oti4"
      },
      "execution_count": null,
      "outputs": []
    },
    {
      "cell_type": "code",
      "source": [
        "!mo --input_model yolov5-mask/mask_yolov5.onnx -s 255 --reverse_input_channels --output Conv_198,Conv_232,Conv_266"
      ],
      "metadata": {
        "id": "rQy2dI_W67Db"
      },
      "execution_count": null,
      "outputs": []
    },
    {
      "cell_type": "code",
      "source": [
        "!python detect.py --source yolov5-mask/mask.mp4 --weights yolov5-mask/mask_yolov5.pt --conf 0.2"
      ],
      "metadata": {
        "id": "cH6-Zj6BcElH"
      },
      "execution_count": null,
      "outputs": []
    },
    {
      "cell_type": "code",
      "source": [
        "# For yolo coco dataset"
      ],
      "metadata": {
        "id": "_dWcCe4Pr2nD"
      },
      "execution_count": null,
      "outputs": []
    },
    {
      "cell_type": "code",
      "source": [
        "!python export.py --weights yolov5s.pt --img 640 --batch 1 "
      ],
      "metadata": {
        "id": "4zLbzdhEKtMJ"
      },
      "execution_count": null,
      "outputs": []
    },
    {
      "cell_type": "code",
      "source": [
        "!mo --input_model yolov5s.onnx --model_name yolov5 -s 255 --reverse_input_channels --output Conv_198,Conv_232,Conv_266"
      ],
      "metadata": {
        "id": "SmYrUkspEt_A"
      },
      "execution_count": null,
      "outputs": []
    },
    {
      "cell_type": "code",
      "source": [
        "# https://github.com/violet17/yolov5_demo\n",
        "# https://gitee.com/ppov-nuc/yolov5_infer/blob/main/infer_by_opencv.py"
      ],
      "metadata": {
        "id": "M3_qhkIPPKrQ"
      },
      "execution_count": null,
      "outputs": []
    }
  ],
  "metadata": {
    "colab": {
      "name": "scratchpad",
      "provenance": []
    },
    "kernelspec": {
      "display_name": "Python 3",
      "name": "python3"
    },
    "accelerator": "GPU",
    "gpuClass": "standard"
  },
  "nbformat": 4,
  "nbformat_minor": 0
}